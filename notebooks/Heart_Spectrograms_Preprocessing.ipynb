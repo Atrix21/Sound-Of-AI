{
 "cells": [
  {
   "cell_type": "code",
   "execution_count": 1,
   "id": "1751925a",
   "metadata": {},
   "outputs": [],
   "source": [
    "import matplotlib.pyplot as plt\n",
    "import numpy as np\n",
    "import librosa\n",
    "import wave\n",
    "import pandas as pd\n",
    "import soundfile as sf\n",
    "import librosa.display\n",
    "import IPython.display as ipd\n",
    "from PIL import Image\n",
    "import os\n",
    "import scipy.signal as signal\n",
    "from tqdm import tqdm"
   ]
  },
  {
   "cell_type": "code",
   "execution_count": 2,
   "id": "5271d02c",
   "metadata": {},
   "outputs": [],
   "source": [
    "Df_A=pd.read_csv('/Users/atrix/Documents/desktop_folders/PS/heartbeat_classification/dataframes/Heart_Audio_Default_Folders_A.csv')"
   ]
  },
  {
   "cell_type": "code",
   "execution_count": 3,
   "id": "545456e8",
   "metadata": {},
   "outputs": [
    {
     "data": {
      "text/html": [
       "<div>\n",
       "<style scoped>\n",
       "    .dataframe tbody tr th:only-of-type {\n",
       "        vertical-align: middle;\n",
       "    }\n",
       "\n",
       "    .dataframe tbody tr th {\n",
       "        vertical-align: top;\n",
       "    }\n",
       "\n",
       "    .dataframe thead th {\n",
       "        text-align: right;\n",
       "    }\n",
       "</style>\n",
       "<table border=\"1\" class=\"dataframe\">\n",
       "  <thead>\n",
       "    <tr style=\"text-align: right;\">\n",
       "      <th></th>\n",
       "      <th>File</th>\n",
       "      <th>Class</th>\n",
       "      <th>Folder</th>\n",
       "    </tr>\n",
       "  </thead>\n",
       "  <tbody>\n",
       "    <tr>\n",
       "      <th>0</th>\n",
       "      <td>201012172012.wav</td>\n",
       "      <td>Artifact</td>\n",
       "      <td>Atraining_artifact</td>\n",
       "    </tr>\n",
       "    <tr>\n",
       "      <th>1</th>\n",
       "      <td>201105040918.wav</td>\n",
       "      <td>Artifact</td>\n",
       "      <td>Atraining_artifact</td>\n",
       "    </tr>\n",
       "    <tr>\n",
       "      <th>2</th>\n",
       "      <td>201105041959.wav</td>\n",
       "      <td>Artifact</td>\n",
       "      <td>Atraining_artifact</td>\n",
       "    </tr>\n",
       "    <tr>\n",
       "      <th>3</th>\n",
       "      <td>201105051017.wav</td>\n",
       "      <td>Artifact</td>\n",
       "      <td>Atraining_artifact</td>\n",
       "    </tr>\n",
       "    <tr>\n",
       "      <th>4</th>\n",
       "      <td>201105060108.wav</td>\n",
       "      <td>Artifact</td>\n",
       "      <td>Atraining_artifact</td>\n",
       "    </tr>\n",
       "    <tr>\n",
       "      <th>...</th>\n",
       "      <td>...</td>\n",
       "      <td>...</td>\n",
       "      <td>...</td>\n",
       "    </tr>\n",
       "    <tr>\n",
       "      <th>119</th>\n",
       "      <td>201103200218.wav</td>\n",
       "      <td>Extrasystole</td>\n",
       "      <td>Atraining_extrahls</td>\n",
       "    </tr>\n",
       "    <tr>\n",
       "      <th>120</th>\n",
       "      <td>201104021355.wav</td>\n",
       "      <td>Extrasystole</td>\n",
       "      <td>Atraining_extrahls</td>\n",
       "    </tr>\n",
       "    <tr>\n",
       "      <th>121</th>\n",
       "      <td>201104140118.wav</td>\n",
       "      <td>Extrasystole</td>\n",
       "      <td>Atraining_extrahls</td>\n",
       "    </tr>\n",
       "    <tr>\n",
       "      <th>122</th>\n",
       "      <td>201104270458.wav</td>\n",
       "      <td>Extrasystole</td>\n",
       "      <td>Atraining_extrahls</td>\n",
       "    </tr>\n",
       "    <tr>\n",
       "      <th>123</th>\n",
       "      <td>201104270459.wav</td>\n",
       "      <td>Extrasystole</td>\n",
       "      <td>Atraining_extrahls</td>\n",
       "    </tr>\n",
       "  </tbody>\n",
       "</table>\n",
       "<p>124 rows × 3 columns</p>\n",
       "</div>"
      ],
      "text/plain": [
       "                 File         Class              Folder\n",
       "0    201012172012.wav      Artifact  Atraining_artifact\n",
       "1    201105040918.wav      Artifact  Atraining_artifact\n",
       "2    201105041959.wav      Artifact  Atraining_artifact\n",
       "3    201105051017.wav      Artifact  Atraining_artifact\n",
       "4    201105060108.wav      Artifact  Atraining_artifact\n",
       "..                ...           ...                 ...\n",
       "119  201103200218.wav  Extrasystole  Atraining_extrahls\n",
       "120  201104021355.wav  Extrasystole  Atraining_extrahls\n",
       "121  201104140118.wav  Extrasystole  Atraining_extrahls\n",
       "122  201104270458.wav  Extrasystole  Atraining_extrahls\n",
       "123  201104270459.wav  Extrasystole  Atraining_extrahls\n",
       "\n",
       "[124 rows x 3 columns]"
      ]
     },
     "execution_count": 3,
     "metadata": {},
     "output_type": "execute_result"
    }
   ],
   "source": [
    "Df_A"
   ]
  },
  {
   "cell_type": "code",
   "execution_count": 4,
   "id": "ebbe9f76",
   "metadata": {},
   "outputs": [],
   "source": [
    "sampling_rate = 44100\n",
    "cutoff_freq = 195\n",
    "duration = 3\n",
    "pitch_shift_value = -0.5\n",
    "time_shift_value = 1.0"
   ]
  },
  {
   "cell_type": "code",
   "execution_count": 5,
   "id": "46d6667d",
   "metadata": {},
   "outputs": [],
   "source": [
    "# Step 1: Denoising using a low pass filter\n",
    "def apply_low_pass_filter(audio, sampling_rate, cutoff_freq):\n",
    "    nyquist_freq = 0.5 * sampling_rate\n",
    "    normalized_cutoff_freq = cutoff_freq / nyquist_freq\n",
    "    b, a = signal.butter(4, normalized_cutoff_freq, btype='low', analog=False)\n",
    "    denoised_audio = signal.lfilter(b, a, audio)\n",
    "    return denoised_audio"
   ]
  },
  {
   "cell_type": "code",
   "execution_count": 6,
   "id": "3fdca630",
   "metadata": {},
   "outputs": [],
   "source": [
    "# Downsampling audio\n",
    "def downsample_audio(audio,original_sampling_rate,target_sampling_rate):\n",
    "    resampled_audio = librosa.resample(audio, orig_sr=original_sampling_rate, target_sr=target_sampling_rate)\n",
    "    return resampled_audio"
   ]
  },
  {
   "cell_type": "code",
   "execution_count": 7,
   "id": "8acbc640",
   "metadata": {},
   "outputs": [],
   "source": [
    "# Split audio into fixed-length segments\n",
    "def split_audio(audio, segment_length):\n",
    "    num_segments = len(audio) // segment_length\n",
    "    segments = [audio[i*segment_length:(i+1)*segment_length] for i in range(num_segments)]\n",
    "    return segments"
   ]
  },
  {
   "cell_type": "code",
   "execution_count": 8,
   "id": "cbf2e17a",
   "metadata": {},
   "outputs": [],
   "source": [
    "# Apply time shifting to audio\n",
    "def apply_time_shift(audio, shift_factor):\n",
    "    shifted_audio = np.roll(audio, shift_factor)\n",
    "    return shifted_audio"
   ]
  },
  {
   "cell_type": "code",
   "execution_count": 9,
   "id": "d0fb3271",
   "metadata": {},
   "outputs": [],
   "source": [
    "# Apply pitch shifting to audio\n",
    "def apply_pitch_shift(audio, sampling_rate, pitch_shift_steps):\n",
    "    pitch_shifted_audio = librosa.effects.pitch_shift(audio, sr=sampling_rate, n_steps=pitch_shift_steps)\n",
    "    return pitch_shifted_audio"
   ]
  },
  {
   "cell_type": "code",
   "execution_count": 10,
   "id": "0573f9d3",
   "metadata": {},
   "outputs": [
    {
     "name": "stderr",
     "output_type": "stream",
     "text": [
      "124it [00:02, 58.24it/s]\n"
     ]
    }
   ],
   "source": [
    "audio_dataset_path='/Users/atrix/Documents/desktop_folders/PS/heartbeat_classification/Datasets/A_data'\n",
    "for index_num,row in tqdm(Df_A.iterrows()):\n",
    "    audio_path = os.path.join(os.path.abspath(audio_dataset_path),str(row[\"Folder\"])+'/',str(row[\"File\"]))\n",
    "    audio, sampling_rate = librosa.load(audio_path, sr=None)\n",
    "\n",
    "    # Denoising\n",
    "    cutoff_frequency = 195\n",
    "    denoised_audio = apply_low_pass_filter(audio, sampling_rate, cutoff_frequency)\n",
    "\n",
    "    # Downsampling\n",
    "    target_sampling_rate = sampling_rate // 10\n",
    "    downsampled_audio = downsample_audio(denoised_audio, sampling_rate, target_sampling_rate)\n",
    "\n",
    "    # Splitting audio\n",
    "    segment_length = target_sampling_rate * 3\n",
    "    segments = split_audio(downsampled_audio, segment_length)\n",
    "\n",
    "    # Saving augmented audio segments\n",
    "    output_folder = '/Users/atrix/Documents/desktop_folders/PS/heartbeat_classification/Datasets/normalised_audio/'\n",
    "    for i, segment in enumerate(segments):\n",
    "        output_path = output_folder + '{}_segment_{}.wav'.format(str(row[\"File\"])[:-4],i)\n",
    "        sf.write(output_path, segment, target_sampling_rate)"
   ]
  },
  {
   "cell_type": "code",
   "execution_count": 11,
   "id": "970c5d6e",
   "metadata": {},
   "outputs": [],
   "source": [
    "folder_path = \"/Users/atrix/Documents/desktop_folders/PS/heartbeat_classification/Datasets/normalised_audio\"\n",
    "\n",
    "# Get the file names from the folder\n",
    "file_names = os.listdir(folder_path)\n",
    "\n",
    "# Print the file names\n",
    "for file_name in file_names:\n",
    "    audio_path = os.path.join(os.path.abspath(folder_path),file_name)\n",
    "    time_shift_factor = 1\n",
    "    audio, sampling_rate = librosa.load(audio_path, sr=None)\n",
    "    time_shifted = apply_time_shift(audio, time_shift_factor)\n",
    "    output_folder = \"/Users/atrix/Documents/desktop_folders/PS/heartbeat_classification/Datasets/time_shifted_audio/\"\n",
    "    output_path = output_folder + '{}_time.wav'.format(str(file_name)[:-4])\n",
    "    sf.write(output_path, time_shifted, target_sampling_rate)"
   ]
  },
  {
   "cell_type": "code",
   "execution_count": 12,
   "id": "b689248c",
   "metadata": {},
   "outputs": [],
   "source": [
    "folder_path = \"/Users/atrix/Documents/desktop_folders/PS/heartbeat_classification/Datasets/normalised_audio\"\n",
    "\n",
    "# Get the file names from the folder\n",
    "file_names = os.listdir(folder_path)\n",
    "\n",
    "# Print the file names\n",
    "for file_name in file_names:\n",
    "    audio_path = os.path.join(os.path.abspath(folder_path),file_name)\n",
    "    pitch_shift_steps = -0.5\n",
    "    audio, sampling_rate = librosa.load(audio_path, sr=None)\n",
    "    pitch_shifted = apply_pitch_shift(audio, target_sampling_rate, pitch_shift_steps)\n",
    "    output_folder = \"/Users/atrix/Documents/desktop_folders/PS/heartbeat_classification/Datasets/pitch_shifted_audio/\"\n",
    "    output_path = output_folder + '{}_pitch.wav'.format(str(file_name)[:-4])\n",
    "    sf.write(output_path, pitch_shifted, target_sampling_rate)"
   ]
  },
  {
   "cell_type": "code",
   "execution_count": 13,
   "id": "16d67245",
   "metadata": {},
   "outputs": [],
   "source": [
    "def save_spect(data, sr, filename):\n",
    "    # Extract spectrogram\n",
    "    spectrogram = librosa.feature.melspectrogram(y=data, sr=sr)\n",
    "    # Convert to decibels\n",
    "    spectrogram_db = librosa.power_to_db(spectrogram, ref=np.max)\n",
    "    # Plot spectrogram\n",
    "    plt.figure(figsize=(1.28,1.28))\n",
    "    librosa.display.specshow(spectrogram_db, sr=sr)\n",
    "    plt.savefig((\"/Users/atrix/Documents/desktop_folders/PS/heartbeat_classification/Datasets/Aug_Audio_Spect_New/{}_spect.png\").format(filename), transparent=True)\n",
    "    plt.close()"
   ]
  },
  {
   "cell_type": "code",
   "execution_count": 14,
   "id": "64852a49",
   "metadata": {},
   "outputs": [],
   "source": [
    "folder_path = \"/Users/atrix/Documents/desktop_folders/PS/heartbeat_classification/Datasets/time_shifted_audio\"\n",
    "\n",
    "# Get the file names from the folder\n",
    "file_names = os.listdir(folder_path)\n",
    "\n",
    "# Print the file names\n",
    "for file_name in file_names:\n",
    "    audio_path = os.path.join(os.path.abspath(folder_path),file_name)\n",
    "    audio, sampling_rate = librosa.load(audio_path, sr=None)\n",
    "    save_spect(audio, sampling_rate, str(file_name)[:-4])"
   ]
  },
  {
   "cell_type": "code",
   "execution_count": 15,
   "id": "3b38226e",
   "metadata": {},
   "outputs": [],
   "source": [
    "folder_path = \"/Users/atrix/Documents/desktop_folders/PS/heartbeat_classification/Datasets/pitch_shifted_audio\"\n",
    "\n",
    "# Get the file names from the folder\n",
    "file_names = os.listdir(folder_path)\n",
    "\n",
    "# Print the file names\n",
    "for file_name in file_names:\n",
    "    audio_path = os.path.join(os.path.abspath(folder_path),file_name)\n",
    "    audio, sampling_rate = librosa.load(audio_path, sr=None)\n",
    "    save_spect(audio, sampling_rate, str(file_name)[:-4])"
   ]
  },
  {
   "cell_type": "code",
   "execution_count": 16,
   "id": "e500ca0c",
   "metadata": {},
   "outputs": [],
   "source": [
    "def save_spect1(data, sr, filename):\n",
    "    # Extract spectrogram\n",
    "    spectrogram = librosa.feature.melspectrogram(y=data, sr=sr)\n",
    "\n",
    "    # Convert to decibels\n",
    "    spectrogram_db = librosa.power_to_db(spectrogram, ref=np.max)\n",
    "\n",
    "    # Plot spectrogram\n",
    "    plt.figure(figsize=(30,10))\n",
    "    librosa.display.specshow(spectrogram_db, sr=sr)\n",
    "    plt.savefig((\"/Users/atrix/Documents/desktop_folders/PS/heartbeat_classification/Datasets/Norm_Audio_Spect/{}_spect.png\").format(filename), transparent=True)\n",
    "    plt.close()\n",
    "    img = Image.open((\"/Users/atrix/Documents/desktop_folders/PS/heartbeat_classification/Datasets/Norm_Audio_Spect/{}_spect.png\").format(filename))\n",
    "    img_resized = img.resize((128,128))\n",
    "\n",
    "    #Save the resized image\n",
    "    img_resized.save((\"/Users/atrix/Documents/desktop_folders/PS/heartbeat_classification/Datasets/Norm_Audio_Spect/{}_spect.png\").format(filename))"
   ]
  },
  {
   "cell_type": "code",
   "execution_count": 17,
   "id": "c2b59cdf",
   "metadata": {},
   "outputs": [],
   "source": [
    "folder_path = \"/Users/atrix/Documents/desktop_folders/PS/heartbeat_classification/Datasets/normalised_audio\"\n",
    "\n",
    "# Get the file names from the folder\n",
    "file_names = os.listdir(folder_path)\n",
    "\n",
    "# Print the file names\n",
    "for file_name in file_names:\n",
    "    audio_path = os.path.join(os.path.abspath(folder_path),file_name)\n",
    "    audio, sampling_rate = librosa.load(audio_path, sr=None)\n",
    "    save_spect1(audio, sampling_rate, str(file_name)[:-4])"
   ]
  },
  {
   "cell_type": "code",
   "execution_count": 18,
   "id": "03a82777",
   "metadata": {},
   "outputs": [
    {
     "name": "stdout",
     "output_type": "stream",
     "text": [
      "Artifact\n"
     ]
    }
   ],
   "source": [
    "a=\"201012172012_segment_0_pitch_spect.png\"\n",
    "b=Df_A.loc[Df_A[\"File\"]==(a[:12]+\".wav\"),\"Class\"].item()\n",
    "print(b)"
   ]
  },
  {
   "cell_type": "code",
   "execution_count": 19,
   "id": "dcd75832",
   "metadata": {},
   "outputs": [],
   "source": [
    "def time_warp(spec, W=5):\n",
    "    num_bins, num_frames = spec.shape\n",
    "    spec_aug = np.copy(spec)\n",
    "\n",
    "    # Generate random control points for time warping\n",
    "    control_points = [(0, 0), (num_bins-1, num_frames-1)]\n",
    "    for _ in range(W):\n",
    "        random_point = np.random.randint(1, num_bins-1)\n",
    "        control_points.append((random_point, np.random.randint(0, num_frames-1)))\n",
    "\n",
    "    # Apply time warping\n",
    "    for i in range(len(control_points)-1):\n",
    "        c1, c2 = control_points[i], control_points[i+1]\n",
    "        spec_aug[c1[0]:c2[0]+1, :] = np.roll(spec[c1[0]:c2[0]+1, :], c2[1] - c1[1], axis=1)\n",
    "\n",
    "    return spec_aug"
   ]
  },
  {
   "cell_type": "code",
   "execution_count": 20,
   "id": "c3cfcc21",
   "metadata": {},
   "outputs": [],
   "source": [
    "import random\n",
    "\n",
    "def save_augmented_spect(data, sr, filename):\n",
    "    # Extract original spectrogram\n",
    "    spectrogram = librosa.feature.melspectrogram(y=data, sr=sr)\n",
    "\n",
    "    # Convert to decibels\n",
    "    spectrogram_db = librosa.power_to_db(spectrogram, ref=np.max)\n",
    "    \n",
    "    # Normalize the spectrogram to values between 0 and 1\n",
    "    spectrogram_normalized = (spectrogram_db - np.min(spectrogram_db)) / (np.max(spectrogram_db) - np.min(spectrogram_db))\n",
    "\n",
    "    # Scale the spectrogram to values between 1 and 255\n",
    "    spectrogram_scaled = spectrogram_normalized * 255\n",
    "\n",
    "    # Plot original spectrogram\n",
    "    plt.figure(figsize=(1.28, 1.28))\n",
    "    librosa.display.specshow(spectrogram_scaled, sr=sr)\n",
    "    plt.savefig((\"/Users/atrix/Documents/desktop_folders/PS/heartbeat_classification/Datasets/Aug_Audio_Spect_New/{}_original.png\").format(filename), transparent=True)\n",
    "    plt.close()\n",
    "\n",
    "    # Time-wrapped spectrogram\n",
    "    time_wrapped_spectrogram = time_warp(spectrogram_scaled)\n",
    "    plt.figure(figsize=(1.28, 1.28))\n",
    "    librosa.display.specshow(time_wrapped_spectrogram, sr=sr)\n",
    "    plt.savefig((\"/Users/atrix/Documents/desktop_folders/PS/heartbeat_classification/Datasets/Aug_Audio_Spect_New/{}_time_wrapped.png\").format(filename), transparent=True)\n",
    "    plt.close()\n",
    "\n",
    "    # Frequency-masked spectrograms\n",
    "    for i in range(2):\n",
    "        frequency_masked_spectrogram = spectrogram.copy()\n",
    "        start_freq = random.randint(0, spectrogram.shape[0] // 2)\n",
    "        end_freq = random.randint(start_freq, spectrogram.shape[0] - 1)\n",
    "        frequency_masked_spectrogram[start_freq:end_freq + 1, :] = 0\n",
    "        frequency_masked_spectrogram_db = librosa.power_to_db(frequency_masked_spectrogram, ref=np.max)\n",
    "        plt.figure(figsize=(1.28, 1.28))\n",
    "        librosa.display.specshow(frequency_masked_spectrogram_db, sr=sr)\n",
    "        plt.savefig((\"/Users/atrix/Documents/desktop_folders/PS/heartbeat_classification/Datasets/Aug_Audio_Spect_New/{}_freq_masked_{}.png\").format(filename, i+1), transparent=True)\n",
    "        plt.close()"
   ]
  },
  {
   "cell_type": "code",
   "execution_count": 21,
   "id": "821566fc",
   "metadata": {},
   "outputs": [],
   "source": [
    "folder_path = \"/Users/atrix/Documents/desktop_folders/PS/heartbeat_classification/Datasets/normalised_audio\"\n",
    "\n",
    "# Get the file names from the folder\n",
    "file_names = os.listdir(folder_path)\n",
    "\n",
    "for file_name in file_names:\n",
    "    audio_path = os.path.join(os.path.abspath(folder_path),file_name)\n",
    "    audio, sampling_rate = librosa.load(audio_path, sr=None)\n",
    "    save_augmented_spect(audio, sampling_rate, str(file_name)[:-4])"
   ]
  },
  {
   "cell_type": "code",
   "execution_count": 22,
   "id": "d4667206",
   "metadata": {},
   "outputs": [],
   "source": [
    "Spect_Dataset=[]\n",
    "folder_path = \"/Users/atrix/Documents/desktop_folders/PS/heartbeat_classification/Datasets/Aug_Audio_Spect_New\"\n",
    "\n",
    "# Get the file names from the folder\n",
    "file_names = os.listdir(folder_path)\n",
    "\n",
    "# Print the file names\n",
    "for file_name in file_names:\n",
    "    Spect_class=Df_A.loc[Df_A[\"File\"]==(str(file_name[:12])+\".wav\"),\"Class\"].iloc[0]\n",
    "    Spect_Dataset.append([file_name,Spect_class])"
   ]
  },
  {
   "cell_type": "code",
   "execution_count": 23,
   "id": "688696f4",
   "metadata": {},
   "outputs": [],
   "source": [
    "Spect_Df=pd.DataFrame(Spect_Dataset, columns=['Spect_File', 'Spect_Class'])"
   ]
  },
  {
   "cell_type": "code",
   "execution_count": 24,
   "id": "33835e2b",
   "metadata": {},
   "outputs": [
    {
     "data": {
      "text/html": [
       "<div>\n",
       "<style scoped>\n",
       "    .dataframe tbody tr th:only-of-type {\n",
       "        vertical-align: middle;\n",
       "    }\n",
       "\n",
       "    .dataframe tbody tr th {\n",
       "        vertical-align: top;\n",
       "    }\n",
       "\n",
       "    .dataframe thead th {\n",
       "        text-align: right;\n",
       "    }\n",
       "</style>\n",
       "<table border=\"1\" class=\"dataframe\">\n",
       "  <thead>\n",
       "    <tr style=\"text-align: right;\">\n",
       "      <th></th>\n",
       "      <th>Spect_File</th>\n",
       "      <th>Spect_Class</th>\n",
       "    </tr>\n",
       "  </thead>\n",
       "  <tbody>\n",
       "    <tr>\n",
       "      <th>0</th>\n",
       "      <td>201106070949_segment_0_time_spect.png</td>\n",
       "      <td>Artifact</td>\n",
       "    </tr>\n",
       "    <tr>\n",
       "      <th>1</th>\n",
       "      <td>201106211041_segment_0_freq_masked_1.png</td>\n",
       "      <td>Artifact</td>\n",
       "    </tr>\n",
       "    <tr>\n",
       "      <th>2</th>\n",
       "      <td>201108222253_segment_1_time_wrapped.png</td>\n",
       "      <td>Murmur</td>\n",
       "    </tr>\n",
       "    <tr>\n",
       "      <th>3</th>\n",
       "      <td>201106221254_segment_1_freq_masked_1.png</td>\n",
       "      <td>Artifact</td>\n",
       "    </tr>\n",
       "    <tr>\n",
       "      <th>4</th>\n",
       "      <td>201106221418_segment_1_time_wrapped.png</td>\n",
       "      <td>Normal</td>\n",
       "    </tr>\n",
       "    <tr>\n",
       "      <th>...</th>\n",
       "      <td>...</td>\n",
       "      <td>...</td>\n",
       "    </tr>\n",
       "    <tr>\n",
       "      <th>1741</th>\n",
       "      <td>201106161019_segment_2_time_wrapped.png</td>\n",
       "      <td>Artifact</td>\n",
       "    </tr>\n",
       "    <tr>\n",
       "      <th>1742</th>\n",
       "      <td>201101241433_segment_1_pitch_spect.png</td>\n",
       "      <td>Extrasystole</td>\n",
       "    </tr>\n",
       "    <tr>\n",
       "      <th>1743</th>\n",
       "      <td>201108222227_segment_0_time_spect.png</td>\n",
       "      <td>Murmur</td>\n",
       "    </tr>\n",
       "    <tr>\n",
       "      <th>1744</th>\n",
       "      <td>201106030612_segment_0_pitch_spect.png</td>\n",
       "      <td>Artifact</td>\n",
       "    </tr>\n",
       "    <tr>\n",
       "      <th>1745</th>\n",
       "      <td>201106220340_segment_1_time_spect.png</td>\n",
       "      <td>Artifact</td>\n",
       "    </tr>\n",
       "  </tbody>\n",
       "</table>\n",
       "<p>1746 rows × 2 columns</p>\n",
       "</div>"
      ],
      "text/plain": [
       "                                    Spect_File   Spect_Class\n",
       "0        201106070949_segment_0_time_spect.png      Artifact\n",
       "1     201106211041_segment_0_freq_masked_1.png      Artifact\n",
       "2      201108222253_segment_1_time_wrapped.png        Murmur\n",
       "3     201106221254_segment_1_freq_masked_1.png      Artifact\n",
       "4      201106221418_segment_1_time_wrapped.png        Normal\n",
       "...                                        ...           ...\n",
       "1741   201106161019_segment_2_time_wrapped.png      Artifact\n",
       "1742    201101241433_segment_1_pitch_spect.png  Extrasystole\n",
       "1743     201108222227_segment_0_time_spect.png        Murmur\n",
       "1744    201106030612_segment_0_pitch_spect.png      Artifact\n",
       "1745     201106220340_segment_1_time_spect.png      Artifact\n",
       "\n",
       "[1746 rows x 2 columns]"
      ]
     },
     "execution_count": 24,
     "metadata": {},
     "output_type": "execute_result"
    }
   ],
   "source": [
    "Spect_Df"
   ]
  },
  {
   "cell_type": "code",
   "execution_count": 25,
   "id": "fa119759",
   "metadata": {},
   "outputs": [],
   "source": [
    "Spect_Df.to_csv('Heart_Spectrograms_Filenames.csv')"
   ]
  }
 ],
 "metadata": {
  "kernelspec": {
   "display_name": "Python 3 (ipykernel)",
   "language": "python",
   "name": "python3"
  },
  "language_info": {
   "codemirror_mode": {
    "name": "ipython",
    "version": 3
   },
   "file_extension": ".py",
   "mimetype": "text/x-python",
   "name": "python",
   "nbconvert_exporter": "python",
   "pygments_lexer": "ipython3",
   "version": "3.10.10"
  }
 },
 "nbformat": 4,
 "nbformat_minor": 5
}
